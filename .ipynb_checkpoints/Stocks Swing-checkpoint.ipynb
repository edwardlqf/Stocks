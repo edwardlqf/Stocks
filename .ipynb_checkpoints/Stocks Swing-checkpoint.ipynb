{
 "cells": [
  {
   "cell_type": "markdown",
   "metadata": {},
   "source": [
    "Using IEX Cloud:\n",
    "\n",
    "https://intercom.help/iexcloud/en/articles/2851957-how-to-use-the-iex-cloud-api\n",
    "    \n",
    "https://intercom.help/iexcloud/en/articles/2915433-testing-with-the-iex-cloud-sandbox\n",
    "    \n",
    "https://intercom.help/iexcloud/en/articles/2956164-how-do-i-get-real-time-stock-prices-on-iex-cloud\n",
    "\n",
    "https://iexcloud.io/docs/api/#api-reference"
   ]
  },
  {
   "cell_type": "code",
   "execution_count": 32,
   "metadata": {},
   "outputs": [],
   "source": [
    "# https://sandbox.iexapis.com/stable/stock/IBM/quote?token=token\n",
    "    \n",
    "token = \"c6f0b747b1b3904b907634abb2ad1808\"\n",
    "\n",
    "real_tok = \"Tpk_19b24a85a55c41058ec5db7e29af5dae\"\n",
    "\n",
    "test_tok = \"Tsk_68fb540558594a96bb0723987108d68c\" "
   ]
  },
  {
   "cell_type": "code",
   "execution_count": 42,
   "metadata": {},
   "outputs": [
    {
     "data": {
      "text/plain": [
       "'BRK.B'"
      ]
     },
     "execution_count": 42,
     "metadata": {},
     "output_type": "execute_result"
    }
   ],
   "source": [
    "import requests\n",
    "import pandas as pd\n",
    "\n",
    "resp = requests.get('https://sandbox.iexapis.com/stable/stock/' + stock_list[10] + '/quote?token=' + test_tok)\n",
    "resp\n",
    "\n",
    "# if resp.status_code != 200:\n",
    "#     # This means something went wrong.\n",
    "#     raise ApiError('GET /tasks/ {}'.format(resp.status_code))\n",
    "# for todo_item in resp.json():\n",
    "#     print('{} {}'.format(todo_item['id'], todo_item['summary']))\n",
    "    "
   ]
  },
  {
   "cell_type": "code",
   "execution_count": 39,
   "metadata": {},
   "outputs": [],
   "source": [
    "stock_list = ['NIO', 'RVLV', 'VFH', 'ABEV', 'DFS', 'MAR', 'C', 'VER', 'USFD', 'NBL', 'BRK.B']"
   ]
  },
  {
   "cell_type": "code",
   "execution_count": 29,
   "metadata": {},
   "outputs": [
    {
     "data": {
      "text/plain": [
       "symbol                                        XOM\n",
       "companyName                     Exxon Mobil Corp.\n",
       "primaryExchange           New York Stock Exchange\n",
       "calculationPrice                            close\n",
       "open                                        48.04\n",
       "openTime                            1591968600991\n",
       "openSource                               official\n",
       "close                                       47.17\n",
       "closeTime                           1591992001791\n",
       "closeSource                              official\n",
       "high                                       48.623\n",
       "highTime                            1592006377287\n",
       "highSource                15 minute delayed price\n",
       "low                                        45.905\n",
       "lowTime                             1591984372552\n",
       "lowSource                 15 minute delayed price\n",
       "latestPrice                                 47.17\n",
       "latestSource                                Close\n",
       "latestTime                          June 12, 2020\n",
       "latestUpdate                        1591992001791\n",
       "latestVolume                             30978124\n",
       "iexRealtimePrice                             None\n",
       "iexRealtimeSize                              None\n",
       "iexLastUpdated                               None\n",
       "delayedPrice                                47.24\n",
       "delayedPriceTime                    1592006377287\n",
       "oddLotDelayedPrice                          47.19\n",
       "oddLotDelayedPriceTime              1591991993856\n",
       "extendedPrice                               47.24\n",
       "extendedChange                               0.07\n",
       "extendedChangePercent                     0.00148\n",
       "extendedPriceTime                   1592006377287\n",
       "previousClose                               46.18\n",
       "previousVolume                           39182998\n",
       "change                                       0.99\n",
       "changePercent                             0.02144\n",
       "volume                                   30978124\n",
       "iexMarketPercent                             None\n",
       "iexVolume                                    None\n",
       "avgTotalVolume                           25474683\n",
       "iexBidPrice                                  None\n",
       "iexBidSize                                   None\n",
       "iexAskPrice                                  None\n",
       "iexAskSize                                   None\n",
       "iexOpen                                      None\n",
       "iexOpenTime                                  None\n",
       "iexClose                                   47.175\n",
       "iexCloseTime                        1591991997390\n",
       "marketCap                            199444665700\n",
       "peRatio                                     17.72\n",
       "week52High                                  77.93\n",
       "week52Low                                   30.11\n",
       "ytdChange                               -0.313257\n",
       "lastTradeTime                       1591991999419\n",
       "isUSMarketOpen                              False\n",
       "dtype: object"
      ]
     },
     "execution_count": 29,
     "metadata": {},
     "output_type": "execute_result"
    }
   ],
   "source": [
    "df = pd.read_json('https://cloud.iexapis.com/stable/stock/XOM/quote?token=pk_b0a629e3ec7940e3bde62ec8830c6cc0',typ='series')\n",
    "df"
   ]
  },
  {
   "cell_type": "code",
   "execution_count": null,
   "metadata": {},
   "outputs": [],
   "source": []
  },
  {
   "cell_type": "code",
   "execution_count": 45,
   "metadata": {},
   "outputs": [],
   "source": [
    "dft = pd.read_json('https://sandbox.iexapis.com/stable/stock/' + stock_list[10] + '/quote?token=' + test_tok, typ='series')"
   ]
  },
  {
   "cell_type": "code",
   "execution_count": 47,
   "metadata": {},
   "outputs": [
    {
     "data": {
      "text/plain": [
       "185.72"
      ]
     },
     "execution_count": 47,
     "metadata": {},
     "output_type": "execute_result"
    }
   ],
   "source": [
    "dft['latestPrice']"
   ]
  },
  {
   "cell_type": "code",
   "execution_count": 15,
   "metadata": {},
   "outputs": [
    {
     "data": {
      "text/plain": [
       "'https://sandbox.iexapis.com/stable/stock/IBM/quote?token=Tsk_68fb540558594a96bb0723987108d68c'"
      ]
     },
     "execution_count": 15,
     "metadata": {},
     "output_type": "execute_result"
    }
   ],
   "source": [
    "'https://sandbox.iexapis.com/stable/stock/IBM/quote?token=' + test_tok"
   ]
  },
  {
   "cell_type": "markdown",
   "metadata": {},
   "source": [
    "Using Alpha_vantage"
   ]
  },
  {
   "cell_type": "code",
   "execution_count": 48,
   "metadata": {},
   "outputs": [],
   "source": [
    "import pandas as pd\n",
    "from alpha_vantage.timeseries import TimeSeries\n",
    "import time"
   ]
  },
  {
   "cell_type": "code",
   "execution_count": 50,
   "metadata": {},
   "outputs": [
    {
     "name": "stdout",
     "output_type": "stream",
     "text": [
      "                     1. open   2. high   3. low  4. close  5. volume\n",
      "date                                                                \n",
      "2020-06-12 16:00:00  188.090  188.2100  187.490  187.7300   649582.0\n",
      "2020-06-12 15:59:00  187.905  188.1600  187.880  188.0800   251773.0\n",
      "2020-06-12 15:58:00  188.180  188.2350  187.900  187.9100   190457.0\n",
      "2020-06-12 15:57:00  188.260  188.3500  188.025  188.1800   143884.0\n",
      "2020-06-12 15:56:00  188.050  188.4100  187.980  188.2699   194797.0\n",
      "...                      ...       ...      ...       ...        ...\n",
      "2020-06-08 09:35:00  185.410  185.7900  185.410  185.6500   290673.0\n",
      "2020-06-08 09:34:00  185.280  185.5558  185.150  185.2818   119612.0\n",
      "2020-06-08 09:33:00  185.880  185.8900  185.170  185.2300   222235.0\n",
      "2020-06-08 09:32:00  185.870  186.0700  185.680  185.9000   146245.0\n",
      "2020-06-08 09:31:00  185.940  185.9900  185.500  185.8650  1132996.0\n",
      "\n",
      "[1811 rows x 5 columns]\n"
     ]
    }
   ],
   "source": [
    "api_key = '137WDP642TJWIAXL'\n",
    "\n",
    "ts = TimeSeries(key=api_key, output_format='pandas')\n",
    "data, meta_data = ts.get_intraday(symbol='MSFT', interval = '1min', outputsize = 'full')\n",
    "print(data)"
   ]
  },
  {
   "cell_type": "code",
   "execution_count": 51,
   "metadata": {},
   "outputs": [
    {
     "name": "stdout",
     "output_type": "stream",
     "text": [
      "date\n",
      "2020-06-12 16:00:00         NaN\n",
      "2020-06-12 15:59:00    0.001864\n",
      "2020-06-12 15:58:00   -0.000904\n",
      "2020-06-12 15:57:00    0.001437\n",
      "2020-06-12 15:56:00    0.000478\n",
      "                         ...   \n",
      "2020-06-08 09:35:00   -0.001787\n",
      "2020-06-08 09:34:00   -0.001983\n",
      "2020-06-08 09:33:00   -0.000280\n",
      "2020-06-08 09:32:00    0.003617\n",
      "2020-06-08 09:31:00   -0.000188\n",
      "Name: 4. close, Length: 1811, dtype: float64\n"
     ]
    }
   ],
   "source": [
    "close_data = data['4. close']\n",
    "percentage_change = close_data.pct_change()\n",
    "\n",
    "print(percentage_change)\n",
    "\n",
    "last_change = percentage_change[-1]\n",
    "\n",
    "if abs(last_change) > 0.0004:\n",
    "    print(\"MSFT Alert:\" + str(last_change))"
   ]
  }
 ],
 "metadata": {
  "kernelspec": {
   "display_name": "Python 3",
   "language": "python",
   "name": "python3"
  },
  "language_info": {
   "codemirror_mode": {
    "name": "ipython",
    "version": 3
   },
   "file_extension": ".py",
   "mimetype": "text/x-python",
   "name": "python",
   "nbconvert_exporter": "python",
   "pygments_lexer": "ipython3",
   "version": "3.7.1"
  }
 },
 "nbformat": 4,
 "nbformat_minor": 4
}
